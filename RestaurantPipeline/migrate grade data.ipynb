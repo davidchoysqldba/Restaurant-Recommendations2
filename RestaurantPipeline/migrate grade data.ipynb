{
 "cells": [
  {
   "cell_type": "code",
   "execution_count": 1,
   "metadata": {},
   "outputs": [
    {
     "name": "stderr",
     "output_type": "stream",
     "text": [
      "/home/developer/python-dev/airflow_project1/env/lib/python3.6/importlib/_bootstrap.py:219: RuntimeWarning: numpy.dtype size changed, may indicate binary incompatibility. Expected 96, got 88\n",
      "  return f(*args, **kwds)\n"
     ]
    },
    {
     "name": "stdout",
     "output_type": "stream",
     "text": [
      "[2018-09-18 22:52:50,691] {__init__.py:57} INFO - Using executor SequentialExecutor\n",
      "[2018-09-18 22:52:51,132] {driver.py:124} INFO - Generating grammar tables from /usr/lib/python3.6/lib2to3/Grammar.txt\n",
      "[2018-09-18 22:52:51,186] {driver.py:124} INFO - Generating grammar tables from /usr/lib/python3.6/lib2to3/PatternGrammar.txt\n",
      "[2018-09-18 22:52:52,622] {restaurant_pipeline.py:154} INFO - today's downloading files: restaurant_data_2018_09_14.json\n",
      "[2018-09-18 22:52:52,623] {restaurant_pipeline.py:154} INFO - today's downloading files: restaurant_data_2018_09_12.json\n",
      "[2018-09-18 22:52:52,624] {restaurant_pipeline.py:154} INFO - today's downloading files: restaurant_data_2018_09_15.json\n",
      "[2018-09-18 22:52:52,626] {restaurant_pipeline.py:154} INFO - today's downloading files: restaurant_data_2018_09_13.json\n"
     ]
    }
   ],
   "source": [
    "from helperutil import file_date_util as util\n",
    "import sys\n",
    "import os\n",
    "sys.path.insert(0, './dags')\n",
    "\n",
    "from restaurant_pipeline import default_args\n",
    "from restaurant_pipeline import get_process_file_list"
   ]
  },
  {
   "cell_type": "code",
   "execution_count": 3,
   "metadata": {},
   "outputs": [],
   "source": [
    "import pandas as pd\n",
    "from datetime import date as d"
   ]
  },
  {
   "cell_type": "code",
   "execution_count": 4,
   "metadata": {},
   "outputs": [],
   "source": [
    "from sqlalchemy import create_engine"
   ]
  },
  {
   "cell_type": "code",
   "execution_count": 5,
   "metadata": {},
   "outputs": [],
   "source": [
    "# # setup default arguments\n",
    "# default_args = {\n",
    "#     'download_url': 'https://data.cityofnewyork.us/resource/9w7m-hzhe.json?inspection_date=',\n",
    "#     'download_date_days_ago': -3,\n",
    "#     'download_date_months_ago': -3,\n",
    "#     'db_hostname': '192.168.1.221',\n",
    "#     'db_username': 'restuser',\n",
    "#     'db_password': 'restuser',\n",
    "#     'db_database': 'restaurantdb',\n",
    "# }\n",
    "\n",
    "\n",
    "# setup default arguments\n",
    "default_args = {\n",
    "    'download_url': 'https://data.cityofnewyork.us/resource/9w7m-hzhe.json?inspection_date=',\n",
    "    'download_date_days_ago': -3,\n",
    "    'download_date_months_ago': -4,\n",
    "    'db_hostname': 'localhost',\n",
    "    'db_username': 'root',\n",
    "    'db_password': 'workadmin',\n",
    "    'db_database': 'restaurant_inbox',\n",
    "}\n",
    "\n"
   ]
  },
  {
   "cell_type": "code",
   "execution_count": 6,
   "metadata": {},
   "outputs": [],
   "source": [
    "engine = create_engine(\"mysql+pymysql://\" + default_args['db_username'] + \":\" + default_args['db_password'] + \"@\" + default_args['db_hostname'] + \"/\" + default_args['db_database'] + \"\", echo=False)\n",
    "conn = engine.connect()"
   ]
  },
  {
   "cell_type": "code",
   "execution_count": 42,
   "metadata": {},
   "outputs": [],
   "source": [
    "# files_to_process = get_process_file_list()\n",
    "# dataframes = (pd.read_json(f, lines=True, encoding='UTF8') for f in files_to_process)\n",
    "# big_dataframe = pd.concat(dataframes, ignore_index=True)\n",
    "# # big_dataframe = big_dataframe.reset_index()\n",
    "\n",
    "sql_string = \"\"\"\n",
    "select distinct\n",
    "v_camis as camis, v_grade as grade, v_grade_date as grade_date \n",
    "from restaurant_inbox\n",
    "\"\"\"\n",
    "\n",
    "df_grade = pd.read_sql(sql_string, conn)\n",
    "big_dataframe = df_grade"
   ]
  },
  {
   "cell_type": "code",
   "execution_count": 51,
   "metadata": {},
   "outputs": [
    {
     "name": "stdout",
     "output_type": "stream",
     "text": [
      "<class 'pandas.core.frame.DataFrame'>\n",
      "RangeIndex: 110415 entries, 0 to 110414\n",
      "Data columns (total 3 columns):\n",
      "camis         110414 non-null float64\n",
      "grade         110319 non-null object\n",
      "grade_date    110316 non-null object\n",
      "dtypes: float64(1), object(2)\n",
      "memory usage: 2.5+ MB\n"
     ]
    }
   ],
   "source": [
    "df_grade.info()"
   ]
  },
  {
   "cell_type": "code",
   "execution_count": 53,
   "metadata": {},
   "outputs": [
    {
     "data": {
      "text/html": [
       "<div>\n",
       "<style scoped>\n",
       "    .dataframe tbody tr th:only-of-type {\n",
       "        vertical-align: middle;\n",
       "    }\n",
       "\n",
       "    .dataframe tbody tr th {\n",
       "        vertical-align: top;\n",
       "    }\n",
       "\n",
       "    .dataframe thead th {\n",
       "        text-align: right;\n",
       "    }\n",
       "</style>\n",
       "<table border=\"1\" class=\"dataframe\">\n",
       "  <thead>\n",
       "    <tr style=\"text-align: right;\">\n",
       "      <th></th>\n",
       "      <th>camis</th>\n",
       "      <th>grade</th>\n",
       "      <th>grade_date</th>\n",
       "    </tr>\n",
       "  </thead>\n",
       "  <tbody>\n",
       "    <tr>\n",
       "      <th>3</th>\n",
       "      <td>50041630.0</td>\n",
       "      <td>A</td>\n",
       "      <td>2018-01-31 00:00:00</td>\n",
       "    </tr>\n",
       "    <tr>\n",
       "      <th>4</th>\n",
       "      <td>41130552.0</td>\n",
       "      <td>A</td>\n",
       "      <td>2018-01-31 00:00:00</td>\n",
       "    </tr>\n",
       "    <tr>\n",
       "      <th>11</th>\n",
       "      <td>50008339.0</td>\n",
       "      <td>A</td>\n",
       "      <td>2018-01-31 00:00:00</td>\n",
       "    </tr>\n",
       "    <tr>\n",
       "      <th>12</th>\n",
       "      <td>50017896.0</td>\n",
       "      <td>A</td>\n",
       "      <td>2018-01-31 00:00:00</td>\n",
       "    </tr>\n",
       "    <tr>\n",
       "      <th>18</th>\n",
       "      <td>41717443.0</td>\n",
       "      <td>A</td>\n",
       "      <td>2018-01-31 00:00:00</td>\n",
       "    </tr>\n",
       "    <tr>\n",
       "      <th>21</th>\n",
       "      <td>41249587.0</td>\n",
       "      <td>A</td>\n",
       "      <td>2018-01-31 00:00:00</td>\n",
       "    </tr>\n",
       "    <tr>\n",
       "      <th>25</th>\n",
       "      <td>50041181.0</td>\n",
       "      <td>A</td>\n",
       "      <td>2018-01-31 00:00:00</td>\n",
       "    </tr>\n",
       "    <tr>\n",
       "      <th>28</th>\n",
       "      <td>50003103.0</td>\n",
       "      <td>A</td>\n",
       "      <td>2018-01-31 00:00:00</td>\n",
       "    </tr>\n",
       "    <tr>\n",
       "      <th>32</th>\n",
       "      <td>50004139.0</td>\n",
       "      <td>Z</td>\n",
       "      <td>2018-01-31 00:00:00</td>\n",
       "    </tr>\n",
       "    <tr>\n",
       "      <th>33</th>\n",
       "      <td>50053806.0</td>\n",
       "      <td>Z</td>\n",
       "      <td>2018-01-31 00:00:00</td>\n",
       "    </tr>\n",
       "  </tbody>\n",
       "</table>\n",
       "</div>"
      ],
      "text/plain": [
       "         camis grade           grade_date\n",
       "3   50041630.0     A  2018-01-31 00:00:00\n",
       "4   41130552.0     A  2018-01-31 00:00:00\n",
       "11  50008339.0     A  2018-01-31 00:00:00\n",
       "12  50017896.0     A  2018-01-31 00:00:00\n",
       "18  41717443.0     A  2018-01-31 00:00:00\n",
       "21  41249587.0     A  2018-01-31 00:00:00\n",
       "25  50041181.0     A  2018-01-31 00:00:00\n",
       "28  50003103.0     A  2018-01-31 00:00:00\n",
       "32  50004139.0     Z  2018-01-31 00:00:00\n",
       "33  50053806.0     Z  2018-01-31 00:00:00"
      ]
     },
     "execution_count": 53,
     "metadata": {},
     "output_type": "execute_result"
    }
   ],
   "source": [
    "# downloading_list\n",
    "# path_name\n",
    "\n",
    "# date_end\n",
    "# date_start\n",
    "\n",
    "#big_dataframe.head(2)\n",
    "big_dataframe[big_dataframe['grade_date'] != '0000-00-00 00:00:00'].head(10)"
   ]
  },
  {
   "cell_type": "code",
   "execution_count": 55,
   "metadata": {},
   "outputs": [
    {
     "name": "stdout",
     "output_type": "stream",
     "text": [
      "<class 'pandas.core.frame.DataFrame'>\n",
      "Int64Index: 87249 entries, 3 to 110414\n",
      "Data columns (total 3 columns):\n",
      "camis         87248 non-null float64\n",
      "grade         87153 non-null object\n",
      "grade_date    87150 non-null object\n",
      "dtypes: float64(1), object(2)\n",
      "memory usage: 2.7+ MB\n"
     ]
    }
   ],
   "source": [
    "big_dataframe = big_dataframe[big_dataframe['grade_date'] != '0000-00-00 00:00:00']\n",
    "big_dataframe.info()"
   ]
  },
  {
   "cell_type": "code",
   "execution_count": 56,
   "metadata": {},
   "outputs": [],
   "source": [
    "big_dataframe = big_dataframe[['camis', 'grade', 'grade_date']].drop_duplicates(subset=['camis', 'grade', 'grade_date'])\n",
    "big_dataframe = big_dataframe[big_dataframe['grade_date'].isna() == False]\n",
    "big_dataframe.columns = ['business_number', 'grade', 'grade_date']\n"
   ]
  },
  {
   "cell_type": "code",
   "execution_count": 57,
   "metadata": {},
   "outputs": [
    {
     "name": "stdout",
     "output_type": "stream",
     "text": [
      "<class 'pandas.core.frame.DataFrame'>\n",
      "Int64Index: 87150 entries, 3 to 110414\n",
      "Data columns (total 3 columns):\n",
      "business_number    87150 non-null float64\n",
      "grade              87150 non-null object\n",
      "grade_date         87150 non-null object\n",
      "dtypes: float64(1), object(2)\n",
      "memory usage: 2.7+ MB\n"
     ]
    }
   ],
   "source": [
    "#df_grade = big_dataframe\n",
    "big_dataframe.info()"
   ]
  },
  {
   "cell_type": "code",
   "execution_count": 60,
   "metadata": {},
   "outputs": [
    {
     "data": {
      "text/html": [
       "<div>\n",
       "<style scoped>\n",
       "    .dataframe tbody tr th:only-of-type {\n",
       "        vertical-align: middle;\n",
       "    }\n",
       "\n",
       "    .dataframe tbody tr th {\n",
       "        vertical-align: top;\n",
       "    }\n",
       "\n",
       "    .dataframe thead th {\n",
       "        text-align: right;\n",
       "    }\n",
       "</style>\n",
       "<table border=\"1\" class=\"dataframe\">\n",
       "  <thead>\n",
       "    <tr style=\"text-align: right;\">\n",
       "      <th></th>\n",
       "      <th>business_number</th>\n",
       "      <th>grade</th>\n",
       "      <th>grade_date</th>\n",
       "    </tr>\n",
       "  </thead>\n",
       "  <tbody>\n",
       "    <tr>\n",
       "      <th>3</th>\n",
       "      <td>50041630.0</td>\n",
       "      <td>A</td>\n",
       "      <td>2018-01-31</td>\n",
       "    </tr>\n",
       "    <tr>\n",
       "      <th>4</th>\n",
       "      <td>41130552.0</td>\n",
       "      <td>A</td>\n",
       "      <td>2018-01-31</td>\n",
       "    </tr>\n",
       "    <tr>\n",
       "      <th>11</th>\n",
       "      <td>50008339.0</td>\n",
       "      <td>A</td>\n",
       "      <td>2018-01-31</td>\n",
       "    </tr>\n",
       "    <tr>\n",
       "      <th>12</th>\n",
       "      <td>50017896.0</td>\n",
       "      <td>A</td>\n",
       "      <td>2018-01-31</td>\n",
       "    </tr>\n",
       "    <tr>\n",
       "      <th>18</th>\n",
       "      <td>41717443.0</td>\n",
       "      <td>A</td>\n",
       "      <td>2018-01-31</td>\n",
       "    </tr>\n",
       "  </tbody>\n",
       "</table>\n",
       "</div>"
      ],
      "text/plain": [
       "    business_number grade grade_date\n",
       "3        50041630.0     A 2018-01-31\n",
       "4        41130552.0     A 2018-01-31\n",
       "11       50008339.0     A 2018-01-31\n",
       "12       50017896.0     A 2018-01-31\n",
       "18       41717443.0     A 2018-01-31"
      ]
     },
     "execution_count": 60,
     "metadata": {},
     "output_type": "execute_result"
    }
   ],
   "source": [
    "df_grade = big_dataframe\n",
    "df_grade.head()"
   ]
  },
  {
   "cell_type": "code",
   "execution_count": 59,
   "metadata": {},
   "outputs": [],
   "source": [
    "df_grade['grade_date'] = df_grade['grade_date'].astype('datetime64')\n",
    "# s[s.isna() == True].value_counts()\n",
    "# s.value_counts"
   ]
  },
  {
   "cell_type": "code",
   "execution_count": 37,
   "metadata": {},
   "outputs": [],
   "source": [
    "# df_grade.head(10)\n",
    "df_grade = df_grade[df_grade['grade_date'].isna() == False]"
   ]
  },
  {
   "cell_type": "code",
   "execution_count": 38,
   "metadata": {},
   "outputs": [],
   "source": [
    "#df_grade.head(10)\n",
    "df_grade = df_grade[df_grade['grade_date'].isna() == False]"
   ]
  },
  {
   "cell_type": "code",
   "execution_count": 62,
   "metadata": {},
   "outputs": [
    {
     "name": "stdout",
     "output_type": "stream",
     "text": [
      "<class 'pandas.core.frame.DataFrame'>\n",
      "Int64Index: 87150 entries, 3 to 110414\n",
      "Data columns (total 3 columns):\n",
      "business_number    87150 non-null float64\n",
      "grade              87150 non-null object\n",
      "grade_date         87150 non-null datetime64[ns]\n",
      "dtypes: datetime64[ns](1), float64(1), object(1)\n",
      "memory usage: 2.7+ MB\n"
     ]
    }
   ],
   "source": [
    "df_grade[df_grade.isna() == False].info()"
   ]
  },
  {
   "cell_type": "code",
   "execution_count": 63,
   "metadata": {},
   "outputs": [],
   "source": [
    "truncate_sql = \"\"\"\n",
    "truncate table trans_dim_grade\n",
    "\"\"\"\n",
    "update_res = pd.io.sql.execute(truncate_sql, conn)"
   ]
  },
  {
   "cell_type": "code",
   "execution_count": 64,
   "metadata": {},
   "outputs": [],
   "source": [
    "df_grade.to_sql('trans_dim_grade', con=engine, if_exists='append', index=False)"
   ]
  },
  {
   "cell_type": "code",
   "execution_count": 65,
   "metadata": {},
   "outputs": [],
   "source": [
    "delete_sql = \"\"\"\n",
    "delete a\n",
    "from trans_dim_grade a left join dim_grade b on a.business_number = b.business_number and a.grade_date = b.grade_date\n",
    "where b.business_number is not null\n",
    "\"\"\"\n",
    "delete_res = pd.io.sql.execute(delete_sql, conn)"
   ]
  },
  {
   "cell_type": "code",
   "execution_count": null,
   "metadata": {},
   "outputs": [],
   "source": []
  },
  {
   "cell_type": "code",
   "execution_count": 66,
   "metadata": {},
   "outputs": [],
   "source": [
    "insert_sql = \"\"\"\n",
    "insert into dim_grade (business_number, grade, grade_date, create_date, modify_date)\n",
    "select business_number, grade, grade_date, now(), now() from trans_dim_grade\n",
    "\"\"\"\n",
    "update_res = pd.io.sql.execute(insert_sql, conn)"
   ]
  }
 ],
 "metadata": {
  "kernelspec": {
   "display_name": "Python 3",
   "language": "python",
   "name": "python3"
  },
  "language_info": {
   "codemirror_mode": {
    "name": "ipython",
    "version": 3
   },
   "file_extension": ".py",
   "mimetype": "text/x-python",
   "name": "python",
   "nbconvert_exporter": "python",
   "pygments_lexer": "ipython3",
   "version": "3.6.6"
  }
 },
 "nbformat": 4,
 "nbformat_minor": 2
}
