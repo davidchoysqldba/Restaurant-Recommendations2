{
 "cells": [
  {
   "cell_type": "code",
   "execution_count": 13,
   "metadata": {},
   "outputs": [],
   "source": [
    "from helperutil import file_date_util as util\n",
    "import sys\n",
    "import os\n",
    "sys.path.insert(0, './dags')\n",
    "\n",
    "from restaurant_pipeline import default_args\n",
    "from restaurant_pipeline import get_process_file_list"
   ]
  },
  {
   "cell_type": "code",
   "execution_count": 6,
   "metadata": {},
   "outputs": [],
   "source": [
    "import pandas as pd\n",
    "from datetime import date as d"
   ]
  },
  {
   "cell_type": "code",
   "execution_count": 4,
   "metadata": {},
   "outputs": [],
   "source": [
    "from sqlalchemy import create_engine"
   ]
  },
  {
   "cell_type": "code",
   "execution_count": 77,
   "metadata": {},
   "outputs": [],
   "source": [
    "# # setup default arguments\n",
    "# default_args = {\n",
    "#     'download_url': 'https://data.cityofnewyork.us/resource/9w7m-hzhe.json?inspection_date=',\n",
    "#     'download_date_days_ago': -3,\n",
    "#     'download_date_months_ago': -3,\n",
    "#     'db_hostname': '192.168.1.221',\n",
    "#     'db_username': 'restuser',\n",
    "#     'db_password': 'restuser',\n",
    "#     'db_database': 'restaurantdb',\n",
    "# }\n",
    "\n",
    "\n",
    "# setup default arguments\n",
    "default_args = {\n",
    "    'download_url': 'https://data.cityofnewyork.us/resource/9w7m-hzhe.json?inspection_date=',\n",
    "    'download_date_days_ago': -3,\n",
    "    'download_date_months_ago': -4,\n",
    "    'db_hostname': 'localhost',\n",
    "    'db_username': '',\n",
    "    'db_password': '',\n",
    "    'db_database': 'restaurant_inbox',\n",
    "}\n",
    "\n"
   ]
  },
  {
   "cell_type": "code",
   "execution_count": 78,
   "metadata": {},
   "outputs": [],
   "source": [
    "engine = create_engine(\"mysql+pymysql://\" + default_args['db_username'] + \":\" + default_args['db_password'] + \"@\" + default_args['db_hostname'] + \"/\" + default_args['db_database'] + \"\", echo=False)\n",
    "conn = engine.connect()"
   ]
  },
  {
   "cell_type": "code",
   "execution_count": 26,
   "metadata": {},
   "outputs": [
    {
     "name": "stderr",
     "output_type": "stream",
     "text": [
      "/home/developer/python-dev/airflow_project1/env/lib/python3.6/site-packages/ipykernel_launcher.py:3: FutureWarning: Sorting because non-concatenation axis is not aligned. A future version\n",
      "of pandas will change to not sort by default.\n",
      "\n",
      "To accept the future behavior, pass 'sort=False'.\n",
      "\n",
      "To retain the current behavior and silence the warning, pass 'sort=True'.\n",
      "\n",
      "  This is separate from the ipykernel package so we can avoid doing imports until\n"
     ]
    }
   ],
   "source": [
    "files_to_process = get_process_file_list()\n",
    "dataframes = (pd.read_json(f, lines=True, encoding='UTF8') for f in files_to_process)\n",
    "big_dataframe = pd.concat(dataframes, ignore_index=True)\n",
    "# big_dataframe = big_dataframe.reset_index()"
   ]
  },
  {
   "cell_type": "code",
   "execution_count": 27,
   "metadata": {},
   "outputs": [
    {
     "data": {
      "text/html": [
       "<div>\n",
       "<style scoped>\n",
       "    .dataframe tbody tr th:only-of-type {\n",
       "        vertical-align: middle;\n",
       "    }\n",
       "\n",
       "    .dataframe tbody tr th {\n",
       "        vertical-align: top;\n",
       "    }\n",
       "\n",
       "    .dataframe thead th {\n",
       "        text-align: right;\n",
       "    }\n",
       "</style>\n",
       "<table border=\"1\" class=\"dataframe\">\n",
       "  <thead>\n",
       "    <tr style=\"text-align: right;\">\n",
       "      <th></th>\n",
       "      <th>action</th>\n",
       "      <th>boro</th>\n",
       "      <th>building</th>\n",
       "      <th>camis</th>\n",
       "      <th>critical_flag</th>\n",
       "      <th>cuisine_description</th>\n",
       "      <th>dba</th>\n",
       "      <th>grade</th>\n",
       "      <th>grade_date</th>\n",
       "      <th>inspection_date</th>\n",
       "      <th>inspection_type</th>\n",
       "      <th>phone</th>\n",
       "      <th>record_date</th>\n",
       "      <th>score</th>\n",
       "      <th>street</th>\n",
       "      <th>violation_code</th>\n",
       "      <th>violation_description</th>\n",
       "      <th>zipcode</th>\n",
       "    </tr>\n",
       "  </thead>\n",
       "  <tbody>\n",
       "    <tr>\n",
       "      <th>0</th>\n",
       "      <td>Violations were cited in the following area(s).</td>\n",
       "      <td>BRONX</td>\n",
       "      <td>106</td>\n",
       "      <td>50074686</td>\n",
       "      <td>Critical</td>\n",
       "      <td>Juice, Smoothies, Fruit Salads</td>\n",
       "      <td>AMORE JUICE BAR</td>\n",
       "      <td>Not Yet Graded</td>\n",
       "      <td>None</td>\n",
       "      <td>2018-05-11T00:00:00.000</td>\n",
       "      <td>Pre-permit (Operational) / Initial Inspection</td>\n",
       "      <td>9172597091</td>\n",
       "      <td>2018-05-16T06:01:08.000</td>\n",
       "      <td>28.0</td>\n",
       "      <td>E 165TH ST</td>\n",
       "      <td>04A</td>\n",
       "      <td>Food Protection Certificate not held by superv...</td>\n",
       "      <td>10452.0</td>\n",
       "    </tr>\n",
       "    <tr>\n",
       "      <th>1</th>\n",
       "      <td>Violations were cited in the following area(s).</td>\n",
       "      <td>MANHATTAN</td>\n",
       "      <td>75</td>\n",
       "      <td>41466809</td>\n",
       "      <td>Critical</td>\n",
       "      <td>American</td>\n",
       "      <td>DINA RATA AT ANDAZ HOTEL</td>\n",
       "      <td>None</td>\n",
       "      <td>None</td>\n",
       "      <td>2018-05-11T00:00:00.000</td>\n",
       "      <td>Cycle Inspection / Initial Inspection</td>\n",
       "      <td>2126991692</td>\n",
       "      <td>2018-05-16T06:01:08.000</td>\n",
       "      <td>34.0</td>\n",
       "      <td>WALL STREET</td>\n",
       "      <td>06E</td>\n",
       "      <td>Sanitized equipment or utensil, including in-u...</td>\n",
       "      <td>10005.0</td>\n",
       "    </tr>\n",
       "  </tbody>\n",
       "</table>\n",
       "</div>"
      ],
      "text/plain": [
       "                                            action       boro building  \\\n",
       "0  Violations were cited in the following area(s).      BRONX      106   \n",
       "1  Violations were cited in the following area(s).  MANHATTAN       75   \n",
       "\n",
       "      camis critical_flag             cuisine_description  \\\n",
       "0  50074686      Critical  Juice, Smoothies, Fruit Salads   \n",
       "1  41466809      Critical                        American   \n",
       "\n",
       "                        dba           grade grade_date  \\\n",
       "0           AMORE JUICE BAR  Not Yet Graded       None   \n",
       "1  DINA RATA AT ANDAZ HOTEL            None       None   \n",
       "\n",
       "           inspection_date                                inspection_type  \\\n",
       "0  2018-05-11T00:00:00.000  Pre-permit (Operational) / Initial Inspection   \n",
       "1  2018-05-11T00:00:00.000          Cycle Inspection / Initial Inspection   \n",
       "\n",
       "        phone              record_date  score       street violation_code  \\\n",
       "0  9172597091  2018-05-16T06:01:08.000   28.0   E 165TH ST            04A   \n",
       "1  2126991692  2018-05-16T06:01:08.000   34.0  WALL STREET            06E   \n",
       "\n",
       "                               violation_description  zipcode  \n",
       "0  Food Protection Certificate not held by superv...  10452.0  \n",
       "1  Sanitized equipment or utensil, including in-u...  10005.0  "
      ]
     },
     "execution_count": 27,
     "metadata": {},
     "output_type": "execute_result"
    }
   ],
   "source": [
    "# downloading_list\n",
    "# path_name\n",
    "\n",
    "# date_end\n",
    "# date_start\n",
    "\n",
    "big_dataframe.head(2)"
   ]
  },
  {
   "cell_type": "code",
   "execution_count": 28,
   "metadata": {},
   "outputs": [],
   "source": [
    "big_dataframe = big_dataframe[['camis', 'grade', 'grade_date']].drop_duplicates(subset=['camis', 'grade', 'grade_date'])\n",
    "big_dataframe = big_dataframe[big_dataframe['grade_date'].isna() == False]\n",
    "big_dataframe.columns = ['business_number', 'grade', 'grade_date']\n"
   ]
  },
  {
   "cell_type": "code",
   "execution_count": 66,
   "metadata": {},
   "outputs": [],
   "source": [
    "df_grade = big_dataframe"
   ]
  },
  {
   "cell_type": "code",
   "execution_count": 67,
   "metadata": {},
   "outputs": [],
   "source": [
    "df_grade['grade_date'] = df_grade['grade_date'].astype('datetime64')\n",
    "# s[s.isna() == True].value_counts()\n",
    "# s.value_counts"
   ]
  },
  {
   "cell_type": "code",
   "execution_count": 72,
   "metadata": {},
   "outputs": [],
   "source": [
    "# df_grade.head(10)\n",
    "df_grade = df_grade[df_grade['grade_date'].isna() == False]"
   ]
  },
  {
   "cell_type": "code",
   "execution_count": 64,
   "metadata": {},
   "outputs": [],
   "source": [
    "#df_grade.head(10)\n",
    "df_grade = df_grade[df_grade['grade_date'].isna() == False]"
   ]
  },
  {
   "cell_type": "code",
   "execution_count": 75,
   "metadata": {},
   "outputs": [
    {
     "data": {
      "text/html": [
       "<div>\n",
       "<style scoped>\n",
       "    .dataframe tbody tr th:only-of-type {\n",
       "        vertical-align: middle;\n",
       "    }\n",
       "\n",
       "    .dataframe tbody tr th {\n",
       "        vertical-align: top;\n",
       "    }\n",
       "\n",
       "    .dataframe thead th {\n",
       "        text-align: right;\n",
       "    }\n",
       "</style>\n",
       "<table border=\"1\" class=\"dataframe\">\n",
       "  <thead>\n",
       "    <tr style=\"text-align: right;\">\n",
       "      <th></th>\n",
       "      <th>business_number</th>\n",
       "      <th>grade</th>\n",
       "      <th>grade_date</th>\n",
       "    </tr>\n",
       "  </thead>\n",
       "  <tbody>\n",
       "    <tr>\n",
       "      <th>2</th>\n",
       "      <td>41688097</td>\n",
       "      <td>A</td>\n",
       "      <td>2018-05-11</td>\n",
       "    </tr>\n",
       "    <tr>\n",
       "      <th>3</th>\n",
       "      <td>50040458</td>\n",
       "      <td>A</td>\n",
       "      <td>2018-05-11</td>\n",
       "    </tr>\n",
       "    <tr>\n",
       "      <th>4</th>\n",
       "      <td>40866029</td>\n",
       "      <td>A</td>\n",
       "      <td>2018-05-11</td>\n",
       "    </tr>\n",
       "    <tr>\n",
       "      <th>5</th>\n",
       "      <td>41244032</td>\n",
       "      <td>A</td>\n",
       "      <td>2018-05-11</td>\n",
       "    </tr>\n",
       "    <tr>\n",
       "      <th>6</th>\n",
       "      <td>50075060</td>\n",
       "      <td>A</td>\n",
       "      <td>2018-05-11</td>\n",
       "    </tr>\n",
       "    <tr>\n",
       "      <th>13</th>\n",
       "      <td>41688121</td>\n",
       "      <td>A</td>\n",
       "      <td>2018-05-11</td>\n",
       "    </tr>\n",
       "    <tr>\n",
       "      <th>21</th>\n",
       "      <td>50013521</td>\n",
       "      <td>A</td>\n",
       "      <td>2018-05-11</td>\n",
       "    </tr>\n",
       "    <tr>\n",
       "      <th>22</th>\n",
       "      <td>41688120</td>\n",
       "      <td>A</td>\n",
       "      <td>2018-05-11</td>\n",
       "    </tr>\n",
       "    <tr>\n",
       "      <th>23</th>\n",
       "      <td>41123042</td>\n",
       "      <td>A</td>\n",
       "      <td>2018-05-11</td>\n",
       "    </tr>\n",
       "    <tr>\n",
       "      <th>25</th>\n",
       "      <td>41688112</td>\n",
       "      <td>A</td>\n",
       "      <td>2018-05-11</td>\n",
       "    </tr>\n",
       "  </tbody>\n",
       "</table>\n",
       "</div>"
      ],
      "text/plain": [
       "    business_number grade grade_date\n",
       "2          41688097     A 2018-05-11\n",
       "3          50040458     A 2018-05-11\n",
       "4          40866029     A 2018-05-11\n",
       "5          41244032     A 2018-05-11\n",
       "6          50075060     A 2018-05-11\n",
       "13         41688121     A 2018-05-11\n",
       "21         50013521     A 2018-05-11\n",
       "22         41688120     A 2018-05-11\n",
       "23         41123042     A 2018-05-11\n",
       "25         41688112     A 2018-05-11"
      ]
     },
     "execution_count": 75,
     "metadata": {},
     "output_type": "execute_result"
    }
   ],
   "source": [
    "df_grade[df_grade.isna() == False].head(10)"
   ]
  },
  {
   "cell_type": "code",
   "execution_count": 79,
   "metadata": {},
   "outputs": [],
   "source": [
    "truncate_sql = \"\"\"\n",
    "truncate table trans_dim_grade\n",
    "\"\"\"\n",
    "update_res = pd.io.sql.execute(truncate_sql, conn)"
   ]
  },
  {
   "cell_type": "code",
   "execution_count": 80,
   "metadata": {},
   "outputs": [],
   "source": [
    "df_grade.to_sql('trans_dim_grade', con=engine, if_exists='append', index=False)"
   ]
  },
  {
   "cell_type": "code",
   "execution_count": 82,
   "metadata": {},
   "outputs": [],
   "source": [
    "# truncate_sql = \"\"\"\n",
    "# truncate table dim_grade\n",
    "# \"\"\"\n",
    "# update_res = pd.io.sql.execute(truncate_sql, conn)"
   ]
  },
  {
   "cell_type": "code",
   "execution_count": null,
   "metadata": {},
   "outputs": [],
   "source": []
  },
  {
   "cell_type": "code",
   "execution_count": 83,
   "metadata": {},
   "outputs": [],
   "source": [
    "insert_sql = \"\"\"\n",
    "insert into dim_grade (business_number, grade, grade_date, create_date, modify_date)\n",
    "select business_number, grade, grade_date, now(), now() from trans_dim_grade\n",
    "\"\"\"\n",
    "update_res = pd.io.sql.execute(insert_sql, conn)"
   ]
  }
 ],
 "metadata": {
  "kernelspec": {
   "display_name": "Python 3",
   "language": "python",
   "name": "python3"
  },
  "language_info": {
   "codemirror_mode": {
    "name": "ipython",
    "version": 3
   },
   "file_extension": ".py",
   "mimetype": "text/x-python",
   "name": "python",
   "nbconvert_exporter": "python",
   "pygments_lexer": "ipython3",
   "version": "3.6.6"
  }
 },
 "nbformat": 4,
 "nbformat_minor": 2
}
